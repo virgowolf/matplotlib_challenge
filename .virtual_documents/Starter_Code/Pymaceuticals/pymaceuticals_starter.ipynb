


# Dependencies and Setup
import matplotlib.pyplot as plt
import pandas as pd
import scipy.stats as st
import numpy as np
from pathlib import Path

# Study data files
mouse_metadata_to_load = Path("data/Mouse_metadata.csv")
study_results_to_load = Path("data/Study_results.csv")

# Read the mouse data and the study results
mouse_metadata = pd.read_csv(mouse_metadata_to_load)
study_results = pd.read_csv(study_results_to_load)

# Combine the data into a single DataFrame
scc_data_complete_df = pd.merge(mouse_metadata, study_results, how="left", on=['Mouse ID', 'Mouse ID'])

# Display the data table for preview
scc_data_complete_df.head()


# Check the number of mice.
total_unique_mice = scc_data_complete_df['Mouse ID'].nunique()
print(f'Total number of unique mice:{total_unique_mice}')


# Get the duplicate mice by ID number that shows up for Mouse ID and Timepoint
duplicates = scc_data_complete_df.duplicated(subset=['Mouse ID', 'Timepoint'])

# Print the duplicate records
print("Duplicate records:")
print(scc_data_complete_df[duplicates])


# Filter out records with Mouse ID 'g989'
filtered_df = scc_data_complete_df[scc_data_complete_df['Mouse ID'] != 'g989']

# Get the duplicate mice by ID number that shows up for Mouse ID and Timepoint
duplicates = filtered_df.duplicated(subset=['Mouse ID', 'Timepoint'])

# Use .loc to select the rows that are not duplicates
clean_df = filtered_df.loc[~duplicates]


# Check the unique values of 'Mouse ID' in the cleaned DataFrame
unique_mice = clean_df['Mouse ID'].nunique()
print("Total unique mice after removing duplicates:", unique_mice)





# Generate a summary statistics table of mean, median, variance, standard deviation, and SEM of the tumor volume for each regimen
pd.set_option('display.max_columns', None)
pd.set_option('display.float_format', lambda x: '%.2f' % x)
scc_data_complete_df.describe()

# Use groupby and summary statistical methods to calculate the following properties of each drug regimen: 
# mean, median, variance, standard deviation, and SEM of the tumor volume. 


# Assemble the resulting series into a single summary DataFrame.









# Generate a bar plot showing the total number of rows (Mouse ID/Timepoints) for each drug regimen using Pandas.



# Generate a bar plot showing the total number of rows (Mouse ID/Timepoints) for each drug regimen using pyplot.



# Generate a pie plot showing the distribution of female versus male mice using Pandas



# Generate a pie plot showing the distribution of female versus male mice using pyplot






# Calculate the final tumor volume of each mouse across four of the treatment regimens:  
# Capomulin, Ramicane, Infubinol, and Ceftamin

# Start by getting the last (greatest) timepoint for each mouse


# Merge this group df with the original DataFrame to get the tumor volume at the last timepoint



# Put treatments into a list for for loop (and later for plot labels)


# Create empty list to fill with tumor vol data (for plotting)


# Calculate the IQR and quantitatively determine if there are any potential outliers. 

    
    # Locate the rows which contain mice on each drug and get the tumor volumes

    
    # add subset 

    
    # Determine outliers using upper and lower bounds



# Generate a box plot that shows the distrubution of the tumor volume for each treatment group.






# Generate a line plot of tumor volume vs. time point for a single mouse treated with Capomulin



# Generate a scatter plot of mouse weight vs. the average observed tumor volume for the entire Capomulin regimen






# Calculate the correlation coefficient and a linear regression model 
# for mouse weight and average observed tumor volume for the entire Capomulin regimen




